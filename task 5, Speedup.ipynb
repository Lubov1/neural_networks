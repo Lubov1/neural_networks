{
 "cells": [
  {
   "cell_type": "markdown",
   "metadata": {
    "colab_type": "text",
    "id": "oNn66jdnghhy"
   },
   "source": [
    "## Семинар 5: \"Улучшение сходимости нейросетей\""
   ]
  },
  {
   "cell_type": "markdown",
   "metadata": {
    "colab_type": "text",
    "id": "nbRRR3Pmghh2"
   },
   "source": [
    "ФИО: Долгая Любовь Васильевна"
   ]
  },
  {
   "cell_type": "code",
   "execution_count": 1,
   "metadata": {
    "colab": {},
    "colab_type": "code",
    "id": "41qajKaVghh4"
   },
   "outputs": [],
   "source": [
    "import numpy as np\n",
    "from sklearn.datasets import fetch_openml\n",
    "from sklearn.model_selection import train_test_split\n",
    "import matplotlib.pyplot as plt\n",
    "import torch\n",
    "from torch import nn\n",
    "from torch.autograd import Variable\n",
    "from torch.utils.data import DataLoader\n",
    "from torchvision.datasets import MNIST\n",
    "from torchvision import transforms\n",
    "from IPython.display import clear_output\n",
    "%matplotlib inline"
   ]
  },
  {
   "cell_type": "markdown",
   "metadata": {
    "colab_type": "text",
    "id": "OGo6UigeghiA"
   },
   "source": [
    "На этом семинаре мы попробуем улучшить результаты, полученные на предыдущем занятии\n",
    "Для этого нам понадобятся следующие вещи:\n",
    "* Dropout\n",
    "* Batch Normalization\n",
    "* Инициализация весов"
   ]
  },
  {
   "cell_type": "markdown",
   "metadata": {
    "colab_type": "text",
    "id": "iAZLNKjNghiE"
   },
   "source": [
    "### Часть 1: Инициализация весов"
   ]
  },
  {
   "cell_type": "markdown",
   "metadata": {
    "colab_type": "text",
    "id": "6MbKoPzIghiG"
   },
   "source": [
    "На лекции доказывалось, что при инициализации He и Glorot дисперсия активаций градиентов в каждом слое будут примерно равны. Давайте проверим это. "
   ]
  },
  {
   "cell_type": "code",
   "execution_count": 2,
   "metadata": {
    "colab": {
     "base_uri": "https://localhost:8080/",
     "height": 417,
     "referenced_widgets": [
      "474b330d13fe41b8b28d15f4c490c751",
      "43d28f6038ef4a1db20ac897b70a8dc2",
      "ff645cbb9beb41b3947bc33ddff45c14",
      "7fcf48577bca407aace2d72407103ba6",
      "660c5a787ba145429688d551f22a2d19",
      "626451f2553344e6aff7ff70f2282dae",
      "14ba44cca9b94ddfa6ee75967e89b8f7",
      "ceae5d51cf964857b0ba1479d3cfe3e8",
      "5db1521a6d044dec88cc09f2acc576ac",
      "1c34de0df84d4b36bff7d40acd16d249",
      "ba7a5dd3671549b18b22baceade60a23",
      "4e6b4f2ecf2d4e9293130c58e6b1ae21",
      "46dd518a5b0848d0ade0986e0f7d9371",
      "7d7481362ccf4cd78e3de89e01a99971",
      "9be7ceb2ce894758ad7f7d852307935e",
      "d0fab42cb0674dc7bf16e5ee04ad6100",
      "764e1a6275bf40029e97f159f004e108",
      "38ab7b11a416409c8d9b6940819542d2",
      "dcb70db768704721bc1a231dff22b90e",
      "cbc3d49db9974707b1b4e35c42b5d0c0",
      "e768aeef231b4b64865a4d349accb679",
      "842a246954c9413f8e235ae9ea1fa0fc",
      "2ed2d2788c784b25a098075b83820a24",
      "46444ca8452845c9a6b182b78485a65b",
      "66bcb99aad6d45d482f764831d1d6c51",
      "ed16ac69365e40cdada4330d44fce630",
      "aef03a87337448d89666818d32a9955b",
      "d8eba2822f85420ea99106d176031b32",
      "5465961835db4b7cb32beb537e560fda",
      "30d9323c05ec46cab075863442f4cfdc",
      "b047e25740e3475589ec275b738d9379",
      "1bd80b5beea644aa8bfdaedfeef675a2"
     ]
    },
    "colab_type": "code",
    "id": "zd-54i8dghiI",
    "outputId": "e6947557-e593-4a59-a861-7a6a2d445e6c"
   },
   "outputs": [],
   "source": [
    "# Dataloader\n",
    "to_numpy = lambda x: x.numpy()\n",
    "transform = transforms.Compose([\n",
    "                       transforms.ToTensor(),\n",
    "                       transforms.Normalize((0.1307,), (0.3081,))\n",
    "                    ])\n",
    "train_dataset = MNIST('.', train=True, download=True, transform=transform)\n",
    "test_dataset = MNIST('.', train=False, transform=transform)\n",
    "\n",
    "train_loader = DataLoader(train_dataset, batch_size=128, shuffle=True)\n",
    "test_loader = DataLoader(test_dataset, batch_size=128, shuffle=True)"
   ]
  },
  {
   "cell_type": "code",
   "execution_count": 3,
   "metadata": {
    "colab": {},
    "colab_type": "code",
    "id": "EjasoSTRghiP"
   },
   "outputs": [],
   "source": [
    "images_train, labels_train = next(iter(train_loader))"
   ]
  },
  {
   "cell_type": "code",
   "execution_count": 4,
   "metadata": {
    "colab": {},
    "colab_type": "code",
    "id": "wNkZ_Y_SghiZ"
   },
   "outputs": [],
   "source": [
    "## Usage example:\n",
    "for X, y in train_loader:\n",
    "    X = X.view(X.size(0), -1)\n",
    "    X = X.numpy() ### Converts torch.Tensor to numpy array\n",
    "    y = y.numpy()\n",
    "    pass"
   ]
  },
  {
   "cell_type": "code",
   "execution_count": 5,
   "metadata": {
    "colab": {
     "base_uri": "https://localhost:8080/",
     "height": 420
    },
    "colab_type": "code",
    "id": "jFV9-bszghif",
    "outputId": "b8e57184-f4f3-4167-f06a-5ac9d46bcfbe"
   },
   "outputs": [
    {
     "data": {
      "image/png": "[encoded data removed]",
      "text/plain": [
       "<Figure size 432x504 with 25 Axes>"
      ]
     },
     "metadata": {
      "needs_background": "light"
     },
     "output_type": "display_data"
    }
   ],
   "source": [
    "plt.figure(figsize=(6, 7))\n",
    "for i in range(25):\n",
    "    plt.subplot(5, 5, i+1)\n",
    "    plt.imshow(X[i].reshape(28, 28), cmap=plt.cm.Greys_r)\n",
    "    plt.title(y[i])\n",
    "    plt.axis('off')"
   ]
  },
  {
   "cell_type": "markdown",
   "metadata": {
    "colab_type": "text",
    "id": "M7wunNlFghim"
   },
   "source": [
    "<i> 1.1 </i> Инициализируйте полносвязную сеть нормальным шумом N(0, 0.1) с архитектурой 784 -> 500 x (10 раз) -> 10. В качестве активации возьмите tanh"
   ]
  },
  {
   "cell_type": "code",
   "execution_count": 6,
   "metadata": {
    "colab": {
     "base_uri": "https://localhost:8080/",
     "height": 35
    },
    "colab_type": "code",
    "id": "K6xJxdkXghio",
    "outputId": "0a486a5a-4a9f-4079-e640-6c5b20ffae30"
   },
   "outputs": [
    {
     "name": "stdout",
     "output_type": "stream",
     "text": [
      "tensor(0.1001)\n"
     ]
    }
   ],
   "source": [
    "def init_layer(layer, mean=0, std=1):\n",
    "    # Тут надо быть аккуратным — можно случайно создать копию и менять значения у копии\n",
    "    weight = layer.state_dict()['weight']\n",
    "    bias = layer.state_dict()['bias']\n",
    "    bias.zero_()\n",
    "    weight.normal_(mean=0, std=std)\n",
    "    print(weight.std())\n",
    "\n",
    "def init_layer_uni(layer, mean=0, std=1):\n",
    "    # Тут надо быть аккуратным — можно случайно создать копию и менять значения у копии\n",
    "    weight = layer.state_dict()['weight']\n",
    "    bias = layer.state_dict()['bias']\n",
    "    bias.zero_()\n",
    "\n",
    "    weight.uniform_(-np.sqrt(std**2 * 12) / 2, np.sqrt(std**2 * 12) / 2)\n",
    "    print(weight.flatten().std())\n",
    "\n",
    "def forward_hook(self, input_, output):\n",
    "    std = input_[0].std().item()\n",
    "    print('forward', std)\n",
    "\n",
    "def backward_hook(self, grad_input, grad_output):\n",
    "    std = grad_input[0].std().item()\n",
    "    print('backward', std)\n",
    "\n",
    "    \n",
    "# пример:\n",
    "layer = nn.Linear(28*28, 100)\n",
    "layer.register_forward_hook(forward_hook)\n",
    "layer.register_backward_hook(backward_hook)\n",
    "init_layer_uni(layer, 0.0, 0.1) # сюда надо подставить другие параметры"
   ]
  },
  {
   "cell_type": "code",
   "execution_count": 7,
   "metadata": {
    "colab": {
     "base_uri": "https://localhost:8080/",
     "height": 35
    },
    "colab_type": "code",
    "id": "RZsLkisdo29d",
    "outputId": "bcb30fbe-f782-4a14-8e0d-52077f41fa8c"
   },
   "outputs": [
    {
     "data": {
      "text/plain": [
       "tensor(4.1209e-05)"
      ]
     },
     "execution_count": 7,
     "metadata": {},
     "output_type": "execute_result"
    }
   ],
   "source": [
    "torch.zeros(100000).uniform_(0,1).std()**(2) - 1/12"
   ]
  },
  {
   "cell_type": "code",
   "execution_count": 8,
   "metadata": {
    "colab": {
     "base_uri": "https://localhost:8080/",
     "height": 215
    },
    "colab_type": "code",
    "id": "II6_aUbRjmTE",
    "outputId": "1c4761f4-1bac-4f37-f645-7c697b02044b"
   },
   "outputs": [
    {
     "name": "stdout",
     "output_type": "stream",
     "text": [
      "tensor(0.0475)\n",
      "tensor(0.0998)\n",
      "tensor(0.1005)\n",
      "tensor(0.0994)\n",
      "tensor(0.1001)\n",
      "tensor(0.1007)\n",
      "tensor(0.1000)\n",
      "tensor(0.1003)\n",
      "tensor(0.0997)\n",
      "tensor(0.1000)\n",
      "tensor(0.1365)\n"
     ]
    }
   ],
   "source": [
    "layers = []\n",
    "sizes = [28*28] + [100]*10 + [10]\n",
    "for size, next_size in zip(sizes, sizes[1:]):\n",
    "    layer = nn.Linear(size, next_size)\n",
    "    layer.register_forward_hook(forward_hook)\n",
    "    layer.register_backward_hook(backward_hook)\n",
    "\n",
    "    init_layer_uni(layer, 0.0, np.sqrt(2.0/(size + next_size)))\n",
    "    #init_layer_uni(layer, 0.0, 0.1)\n",
    "\n",
    "    layers.append(layer)\n",
    "    #layers.append(nn.Tanh())\n",
    "    layers.append(nn.Sigmoid())\n",
    "\n",
    "module = nn.Sequential(*layers)"
   ]
  },
  {
   "cell_type": "code",
   "execution_count": 9,
   "metadata": {
    "colab": {},
    "colab_type": "code",
    "id": "obek6c6ykPQM"
   },
   "outputs": [],
   "source": [
    "X = images_train.reshape(-1, 28*28)"
   ]
  },
  {
   "cell_type": "code",
   "execution_count": 10,
   "metadata": {
    "colab": {
     "base_uri": "https://localhost:8080/",
     "height": 413
    },
    "colab_type": "code",
    "id": "yjPL_qJ9kL8S",
    "outputId": "80c52b52-9c9e-4656-daec-6939b07f31d2"
   },
   "outputs": [
    {
     "name": "stdout",
     "output_type": "stream",
     "text": [
      "forward 1.0035130977630615\n",
      "forward 0.24601106345653534\n",
      "forward 0.12107875198125839\n",
      "forward 0.12038928270339966\n",
      "forward 0.10581086575984955\n",
      "forward 0.1280190348625183\n",
      "forward 0.11893836408853531\n",
      "forward 0.10987693816423416\n",
      "forward 0.10634320229291916\n",
      "forward 0.114143967628479\n",
      "forward 0.11563976109027863\n",
      "backward 0.0025379564613103867\n",
      "backward 0.002267473377287388\n",
      "backward 0.0005067643942311406\n",
      "backward 0.00012729129230137914\n",
      "backward 2.95243771688547e-05\n",
      "backward 7.019015811238205e-06\n",
      "backward 1.6187616438401164e-06\n",
      "backward 3.641792716280179e-07\n",
      "backward 7.623859232808172e-08\n",
      "backward 1.7798789997414133e-08\n",
      "backward 3.38346217709784e-09\n"
     ]
    }
   ],
   "source": [
    "res = module(X)\n",
    "res.mean().backward()"
   ]
  },
  {
   "cell_type": "markdown",
   "metadata": {
    "colab_type": "text",
    "id": "1BbMAyc8ghiu"
   },
   "source": [
    "<i>1.2 Пропустите батч изображений через нейронную сеть и вычислите дисперсию активаций. Затем вычислите градиент и получите дисперсию градиентов. Сравните эти значения между собой для разных слоев.</i>"
   ]
  },
  {
   "cell_type": "code",
   "execution_count": 11,
   "metadata": {},
   "outputs": [],
   "source": [
    "def make_linear(in_dim, out_dim, init_func):\n",
    "    layer = nn.Linear(in_dim, out_dim)\n",
    "    layer.register_forward_hook(forward_hook)\n",
    "    layer.register_backward_hook(backward_hook)\n",
    "    init_func(layer)\n",
    "    \n",
    "    return layer"
   ]
  },
  {
   "cell_type": "code",
   "execution_count": 12,
   "metadata": {
    "colab": {},
    "colab_type": "code",
    "id": "-sOHhD2xghiv",
    "outputId": "6af89510-f8c9-453a-d313-ab2db55ee410"
   },
   "outputs": [
    {
     "name": "stdout",
     "output_type": "stream",
     "text": [
      "forward 0.9961597919464111\n",
      "forward 1.1225155591964722\n",
      "forward 1.1292396783828735\n",
      "forward 1.1120342016220093\n",
      "forward 1.1002079248428345\n",
      "forward 1.1039296388626099\n",
      "forward 1.0906978845596313\n",
      "forward 1.0888582468032837\n",
      "forward 1.084595799446106\n",
      "forward 1.0680015087127686\n",
      "backward 0.0262466911226511\n",
      "backward 0.020842544734477997\n",
      "backward 0.020377788692712784\n",
      "backward 0.020906388759613037\n",
      "backward 0.021241415292024612\n",
      "backward 0.02085101045668125\n",
      "backward 0.020828476175665855\n",
      "backward 0.02096484787762165\n",
      "backward 0.019984973594546318\n",
      "backward 0.020560894161462784\n"
     ]
    }
   ],
   "source": [
    "##### YOUR CODE HERE #####\n",
    "def dumb_init(layer):\n",
    "    weight = layer.state_dict()['weight']\n",
    "    bias = layer.state_dict()['bias']\n",
    "    bias.zero_()\n",
    "    weight.normal_(mean=0, std=1)\n",
    "\n",
    "def xavier_init(layer):\n",
    "    weight = layer.state_dict()['weight']\n",
    "    bias = layer.state_dict()['bias']\n",
    "    bias.zero_()\n",
    "    \n",
    "    d = 2 / (weight.size()[0] + weight.size()[1])\n",
    "    weight.normal_(mean=0, std=np.sqrt(d))\n",
    "    \n",
    "def xavier_init_uni(layer):\n",
    "    weight = layer.state_dict()['weight']\n",
    "    bias = layer.state_dict()['bias']\n",
    "    bias.zero_()\n",
    "    \n",
    "    r = np.sqrt(6 / (weight.size()[0] + weight.size()[1]))\n",
    "    weight.uniform_(-r, r)\n",
    "\n",
    "init_f = xavier_init_uni\n",
    "    \n",
    "net = []\n",
    "net.append(make_linear(28*28, 500, init_f))\n",
    "for i in range(8):\n",
    "    net.append(make_linear(500, 500, init_f))\n",
    "net.append(make_linear(500, 10, init_f))\n",
    "net = nn.Sequential(*net)\n",
    "\n",
    "#пример:\n",
    "n_objects = 100\n",
    "X = images_train[:n_objects].view(n_objects, -1).data\n",
    "y = labels_train[:n_objects].data\n",
    "activations = net(X)\n",
    "loss_fn = torch.nn.NLLLoss()\n",
    "optimizer = torch.optim.Adam(layer.parameters(), lr=0.001) \n",
    "loss = loss_fn(activations, y)\n",
    "loss.backward()"
   ]
  },
  {
   "cell_type": "markdown",
   "metadata": {
    "colab_type": "text",
    "id": "x_0hn48kghi0"
   },
   "source": [
    "<i>1.3 Повторите эксперимент для инициализаций He и Xavier (формулы есть в лекции).</i>"
   ]
  },
  {
   "cell_type": "code",
   "execution_count": 13,
   "metadata": {},
   "outputs": [],
   "source": [
    "def new_linear_layer(input_size, output_size, mean, std):\n",
    "    layer = nn.Linear(input_size, output_size)\n",
    "    layer.register_forward_hook(forward_hook)\n",
    "    layer.register_backward_hook(backward_hook)\n",
    "    init_layer(layer, mean, std)\n",
    "    return layer"
   ]
  },
  {
   "cell_type": "code",
   "execution_count": 14,
   "metadata": {
    "colab": {},
    "colab_type": "code",
    "id": "ousAdK37ghi2"
   },
   "outputs": [
    {
     "name": "stdout",
     "output_type": "stream",
     "text": [
      "tensor(0.0632)\n",
      "tensor(0.0633)\n",
      "tensor(0.0631)\n",
      "tensor(0.0630)\n",
      "tensor(0.0632)\n",
      "tensor(0.0632)\n",
      "tensor(0.0632)\n",
      "tensor(0.0631)\n",
      "tensor(0.0633)\n",
      "tensor(0.0631)\n",
      "tensor(0.0632)\n",
      "tensor(0.4547)\n",
      "forward 0.9961597919464111\n",
      "forward 1.0340120792388916\n",
      "forward 1.0075592994689941\n",
      "forward 1.0214680433273315\n",
      "forward 0.988419234752655\n",
      "forward 0.8994643688201904\n",
      "forward 0.9126841425895691\n",
      "forward 0.8831440806388855\n",
      "forward 0.9099498987197876\n",
      "forward 0.867189884185791\n",
      "forward 0.8595826625823975\n",
      "forward 0.9136064648628235\n",
      "backward 0.20286530256271362\n",
      "backward 0.194989413022995\n",
      "backward 0.18284495174884796\n",
      "backward 0.1592227965593338\n",
      "backward 0.15508361160755157\n",
      "backward 0.13564296066761017\n",
      "backward 0.11735700815916061\n",
      "backward 0.09984294325113297\n",
      "backward 0.09392215311527252\n",
      "backward 0.08360731601715088\n",
      "backward 0.07353862375020981\n",
      "backward 0.059838078916072845\n"
     ]
    },
    {
     "name": "stderr",
     "output_type": "stream",
     "text": [
      "/home/lubov/conda/envs/sphere-py37/lib/python3.7/site-packages/torch/nn/modules/container.py:100: UserWarning: Implicit dimension choice for log_softmax has been deprecated. Change the call to include dim=X as an argument.\n",
      "  input = module(input)\n"
     ]
    }
   ],
   "source": [
    "##### YOUR CODE HERE #####\n",
    "layers = []\n",
    "mean = 0\n",
    "std = 0.1\n",
    "layers.append(new_linear_layer(784, 500, mean=0, std=np.sqrt(2./500)))\n",
    "layers.append(nn.ReLU())\n",
    "for i in range(10):\n",
    "    layers.append(new_linear_layer(500, 500, mean=0, std=np.sqrt(2./500)))\n",
    "    layers.append(nn.ReLU())\n",
    "layers.append(new_linear_layer(500, 10, mean=0, std=np.sqrt(2./10)))\n",
    "layers.append(nn.LogSoftmax())\n",
    "network = nn.Sequential(*layers)\n",
    "\n",
    "#пример:\n",
    "n_objects = 100\n",
    "X = Variable(images_train[:n_objects], requires_grad=False).view(n_objects, -1)\n",
    "y = Variable(labels_train[:n_objects], requires_grad=False)\n",
    "activations = network(X)\n",
    "loss_fn = torch.nn.NLLLoss()\n",
    "optimizer = torch.optim.Adam(layer.parameters(), lr=0.001) \n",
    "loss = loss_fn(activations, y)\n",
    "loss.backward()"
   ]
  },
  {
   "cell_type": "code",
   "execution_count": 15,
   "metadata": {},
   "outputs": [
    {
     "name": "stdout",
     "output_type": "stream",
     "text": [
      "tensor(0.0394)\n",
      "tensor(0.0448)\n",
      "tensor(0.0448)\n",
      "tensor(0.0448)\n",
      "tensor(0.0448)\n",
      "tensor(0.0447)\n",
      "tensor(0.0448)\n",
      "tensor(0.0448)\n",
      "tensor(0.0447)\n",
      "tensor(0.0448)\n",
      "tensor(0.0447)\n",
      "tensor(0.0617)\n",
      "forward 0.9961597919464111\n",
      "forward 0.6316315531730652\n",
      "forward 0.43482816219329834\n",
      "forward 0.3130849599838257\n",
      "forward 0.22088706493377686\n",
      "forward 0.15382957458496094\n",
      "forward 0.1092456802725792\n",
      "forward 0.07173873484134674\n",
      "forward 0.05061815306544304\n",
      "forward 0.036066506057977676\n",
      "forward 0.025572242215275764\n",
      "forward 0.018224021419882774\n",
      "backward 0.02760290540754795\n",
      "backward 0.003762278938665986\n",
      "backward 0.0028011782560497522\n",
      "backward 0.0021597370505332947\n",
      "backward 0.0015530415112152696\n",
      "backward 0.001076446264050901\n",
      "backward 0.0007911876309663057\n",
      "backward 0.0005430226447060704\n",
      "backward 0.00037457747384905815\n",
      "backward 0.0002809072902891785\n",
      "backward 0.0001964301336556673\n",
      "backward 0.00013610404857899994\n"
     ]
    }
   ],
   "source": [
    "layers = []\n",
    "mean = 0\n",
    "std = 0.1\n",
    "layers.append(new_linear_layer(784, 500, mean=0, std=np.sqrt(2./(784 + 500))))\n",
    "layers.append(nn.ReLU())\n",
    "for i in range(10):\n",
    "    layers.append(new_linear_layer(500, 500, mean=0, std=np.sqrt(2./(500 + 500))))\n",
    "    layers.append(nn.ReLU())\n",
    "layers.append(new_linear_layer(500, 10, mean=0, std=np.sqrt(2./(500 + 10))))\n",
    "layers.append(nn.LogSoftmax())\n",
    "network = nn.Sequential(*layers)\n",
    "\n",
    "#пример:\n",
    "n_objects = 100\n",
    "X = Variable(images_train[:n_objects], requires_grad=False).view(n_objects, -1)\n",
    "y = Variable(labels_train[:n_objects], requires_grad=False)\n",
    "activations = network(X)\n",
    "loss_fn = torch.nn.NLLLoss()\n",
    "optimizer = torch.optim.Adam(layer.parameters(), lr=0.001) \n",
    "loss = loss_fn(activations, y)\n",
    "loss.backward()"
   ]
  },
  {
   "cell_type": "markdown",
   "metadata": {
    "colab_type": "text",
    "id": "SoD-yVepghi7"
   },
   "source": [
    "<i> 1.4 Сделайте выводы по первой части </i>"
   ]
  },
  {
   "cell_type": "markdown",
   "metadata": {},
   "source": [
    "Для ReLu лучше подходит инициализация He"
   ]
  },
  {
   "cell_type": "markdown",
   "metadata": {
    "colab_type": "raw",
    "id": "jebXxxlQghi8"
   },
   "source": []
  },
  {
   "cell_type": "code",
   "execution_count": 16,
   "metadata": {},
   "outputs": [],
   "source": [
    "\n",
    "def train(network, epochs, learning_rate):\n",
    "    loss = nn.NLLLoss()\n",
    "    optimizer = torch.optim.Adam(network.parameters(), lr=learning_rate)\n",
    "    train_loss_epochs = []\n",
    "    test_loss_epochs = []\n",
    "    train_accuracy_epochs = []\n",
    "    test_accuracy_epochs = []\n",
    "    try:\n",
    "        for epoch in range(epochs):\n",
    "            losses = []\n",
    "            accuracies = []\n",
    "            for X, y in train_loader:\n",
    "                X = X.view(X.size(0), -1)\n",
    "                network.zero_grad()\n",
    "                prediction = network(X)\n",
    "                loss_batch = loss(prediction, y)\n",
    "                losses.append(loss_batch.item())\n",
    "                loss_batch.backward()\n",
    "                optimizer.step()\n",
    "                accuracies.append((np.argmax(prediction.data.numpy(), 1)==y.data.numpy()).mean())\n",
    "            train_loss_epochs.append(np.mean(losses))\n",
    "            train_accuracy_epochs.append(np.mean(accuracies))\n",
    "            losses = []\n",
    "            accuracies = []    \n",
    "            for X, y in test_loader:\n",
    "                X = X.view(X.size(0), -1)\n",
    "                prediction = network(X)\n",
    "                loss_batch = loss(prediction, y)\n",
    "                losses.append(loss_batch.item())\n",
    "                accuracies.append((np.argmax(prediction.data.numpy(), 1)==y.data.numpy()).mean())\n",
    "            test_loss_epochs.append(np.mean(losses))\n",
    "            test_accuracy_epochs.append(np.mean(accuracies))\n",
    "            clear_output(True)\n",
    "            print('\\rEpoch {0}... (Train/Test) NLL: {1:.3f}/{2:.3f}\\tAccuracy: {3:.3f}/{4:.3f}'.format(\n",
    "                        epoch, train_loss_epochs[-1], test_loss_epochs[-1],\n",
    "                        train_accuracy_epochs[-1], test_accuracy_epochs[-1]))\n",
    "            plt.figure(figsize=(12, 5))\n",
    "            plt.subplot(1, 2, 1)\n",
    "            plt.plot(train_loss_epochs, label='Train')\n",
    "            plt.plot(test_loss_epochs, label='Test')\n",
    "            plt.xlabel('Epochs', fontsize=16)\n",
    "            plt.ylabel('Loss', fontsize=16)\n",
    "            plt.legend(loc=0, fontsize=16)\n",
    "            plt.grid()\n",
    "            plt.subplot(1, 2, 2)\n",
    "            plt.plot(train_accuracy_epochs, label='Train accuracy')\n",
    "            plt.plot(test_accuracy_epochs, label='Test accuracy')\n",
    "            plt.xlabel('Epochs', fontsize=16)\n",
    "            plt.ylabel('Loss', fontsize=16)\n",
    "            plt.legend(loc=0, fontsize=16)\n",
    "            plt.grid()\n",
    "            plt.show()\n",
    "    except KeyboardInterrupt:\n",
    "        pass"
   ]
  },
  {
   "cell_type": "markdown",
   "metadata": {
    "colab_type": "text",
    "id": "yx3rl3wmghi-"
   },
   "source": [
    "### Часть 2: Dropout"
   ]
  },
  {
   "cell_type": "markdown",
   "metadata": {
    "colab_type": "text",
    "id": "7oWa6fbQghi_"
   },
   "source": [
    "Другим полезным слоем является Dropout. В нем с вероятностью 1-p зануляется выход каждого нейрона. Этот слой уже реализован в pyTorch, поэтому вновь реализовывать его не интересно. Давайте реализуем DropConnect — аналог Dropout. В нем с вероятностью 1-p зануляется каждый вес слоя."
   ]
  },
  {
   "cell_type": "markdown",
   "metadata": {
    "colab_type": "text",
    "id": "ebmtGLcjghjB"
   },
   "source": [
    "<i> 2.1 Реализуйте линейный слой с DropConnect </i>"
   ]
  },
  {
   "cell_type": "code",
   "execution_count": 17,
   "metadata": {
    "colab": {},
    "colab_type": "code",
    "id": "vx6U8qOIghjD"
   },
   "outputs": [],
   "source": [
    "# полезная функция: .bernoulli_(p)\n",
    "# не забывайте делать requires_grad=False у маски\n",
    "# помните, что в вычислениях должны участвовать Variable, а не тензоры\n",
    "\n",
    "\n",
    "class DropConnect(nn.Module):\n",
    "    def __init__(self, input_dim, output_dim, p=0.5, mean=0, std=0.01):\n",
    "        super(DropConnect, self).__init__()\n",
    "        self.weight = nn.Parameter(torch.Tensor(input_dim, output_dim).normal_(mean=mean, std=std), requires_grad=True)\n",
    "        self.bias = nn.Parameter(torch.Tensor(1, output_dim).zero_(), requires_grad=True)\n",
    "        self.p = p\n",
    "\n",
    "    def forward(self, x):\n",
    "        if self.training:\n",
    "            mask = torch.zeros(self.weight.size())+(1-self.p)\n",
    "            mask = torch.bernoulli(mask)\n",
    "        else:\n",
    "            mask = torch.ones(self.weight.size())*self.p\n",
    "        mask = Variable(mask, requires_grad=False)\n",
    "        output = torch.mm(x, self.weight*mask)+self.bias\n",
    "        return output"
   ]
  },
  {
   "cell_type": "code",
   "execution_count": 18,
   "metadata": {
    "colab": {
     "base_uri": "https://localhost:8080/",
     "height": 451
    },
    "colab_type": "code",
    "id": "u1HPQEVwtKoA",
    "outputId": "7040a615-f245-4e89-cbdb-710b7b9214df"
   },
   "outputs": [
    {
     "data": {
      "text/plain": [
       "[Parameter containing:\n",
       " tensor([[-0.0543, -0.0141,  0.0385,  0.0923, -0.2022, -0.0721,  0.2508, -0.2798,\n",
       "          -0.0051,  0.1403],\n",
       "         [ 0.1058, -0.2610, -0.1814,  0.0205, -0.0955,  0.2298,  0.1716, -0.1938,\n",
       "           0.2999, -0.2667],\n",
       "         [ 0.2362, -0.2010,  0.1161, -0.0712,  0.0916,  0.0689,  0.1016, -0.1641,\n",
       "           0.0126,  0.0864],\n",
       "         [ 0.1855, -0.0757, -0.1622, -0.2672,  0.1899, -0.0196, -0.0381, -0.1107,\n",
       "          -0.3058, -0.1390],\n",
       "         [ 0.2847, -0.0459, -0.2032,  0.0282, -0.1739,  0.0549,  0.1156,  0.2995,\n",
       "           0.2044, -0.1863],\n",
       "         [-0.1047, -0.3154, -0.0580, -0.2007, -0.0756, -0.2961, -0.1782,  0.0510,\n",
       "           0.2390, -0.1775],\n",
       "         [-0.2547,  0.0242,  0.2216,  0.1348, -0.3089,  0.1929,  0.0014, -0.2756,\n",
       "          -0.0907,  0.1277],\n",
       "         [-0.1894,  0.0349,  0.2073, -0.1529,  0.0353, -0.2349, -0.1652,  0.1101,\n",
       "           0.2505,  0.0975],\n",
       "         [ 0.1728, -0.0502,  0.2942,  0.2125, -0.2914,  0.3040,  0.1913,  0.3142,\n",
       "          -0.0981,  0.2835],\n",
       "         [-0.0783, -0.0168,  0.2491,  0.1125,  0.2104,  0.1827,  0.0093,  0.1638,\n",
       "           0.0837,  0.0129]], requires_grad=True),\n",
       " Parameter containing:\n",
       " tensor([-0.1752,  0.0286, -0.1966,  0.1593, -0.2936, -0.0309,  0.0825,  0.0319,\n",
       "         -0.1392,  0.1301], requires_grad=True)]"
      ]
     },
     "execution_count": 18,
     "metadata": {},
     "output_type": "execute_result"
    }
   ],
   "source": [
    "l = nn.Linear(10, 10)\n",
    "list(l.parameters())"
   ]
  },
  {
   "cell_type": "code",
   "execution_count": 58,
   "metadata": {},
   "outputs": [
    {
     "name": "stdout",
     "output_type": "stream",
     "text": [
      "\r",
      "Epoch 9... (Train/Test) NLL: 0.126/0.135\tAccuracy: 0.960/0.960\n"
     ]
    },
    {
     "data": {
      "image/png": "[encoded data removed]",
      "text/plain": [
       "<Figure size 864x360 with 2 Axes>"
      ]
     },
     "metadata": {
      "needs_background": "light"
     },
     "output_type": "display_data"
    }
   ],
   "source": [
    "network = nn.Sequential(DropConnect(784, 100, p=0.5),\n",
    "                        nn.ReLU(),\n",
    "                        DropConnect(100, 100, p=0.5),\n",
    "                        nn.ReLU(),\n",
    "                        nn.Linear(100, 10),\n",
    "                        nn.LogSoftmax())\n",
    "\n",
    "train(network, 10, 0.001)"
   ]
  },
  {
   "cell_type": "markdown",
   "metadata": {
    "colab_type": "text",
    "id": "tdoUExugghjK"
   },
   "source": [
    "<i> \n",
    "2.2 Сравните графики обучения нейроных сетей:\n",
    "1. 784 -> 200 -> 200 -> 10 с ReLU и Dropout между всеми слоями \n",
    "2. 784 -> 200 -> 200 -> 10 с ReLU DropConnect вместо всех линейных слоев\n",
    "</i>"
   ]
  },
  {
   "cell_type": "code",
   "execution_count": 18,
   "metadata": {
    "colab": {},
    "colab_type": "code",
    "id": "6b-yNrz4ghjM"
   },
   "outputs": [],
   "source": [
    "layers = [nn.Flatten()]\n",
    "\n",
    "sizes = [784, 200, 200, 10]\n",
    "for size, next_size in zip(sizes, sizes[1:]):\n",
    "    layers.append(nn.Linear(size, next_size))  \n",
    "    if next_size != 10:\n",
    "        layers.append(nn.ReLU())\n",
    "        layers.append(nn.Dropout(0.02))\n",
    "    else:\n",
    "        layers.append(nn.LogSoftmax())\n",
    "\n",
    "net = nn.Sequential(*layers)"
   ]
  },
  {
   "cell_type": "code",
   "execution_count": 19,
   "metadata": {
    "colab": {},
    "colab_type": "code",
    "id": "1f6uYLKJspcf"
   },
   "outputs": [],
   "source": [
    "layers = [nn.Flatten()]\n",
    "\n",
    "sizes = [784, 200, 200, 10]\n",
    "for size, next_size in zip(sizes, sizes[1:]):\n",
    "    if next_size != 10:\n",
    "        layers.append(DropConnect(size, next_size, 0.95))\n",
    "        layers.append(nn.ReLU())\n",
    "    else:\n",
    "        layers.append(nn.Linear(size, next_size))\n",
    "        layers.append(nn.LogSoftmax())\n",
    "\n",
    "net = nn.Sequential(*layers)"
   ]
  },
  {
   "cell_type": "code",
   "execution_count": 20,
   "metadata": {
    "colab": {},
    "colab_type": "code",
    "id": "VIC5ZCItw-WL"
   },
   "outputs": [],
   "source": [
    "#RAW          - 0.961\n",
    "#Dropout 0.5  - 0.927\n",
    "#Dropout 0.1  - 0.957\n",
    "#Dropout 0.02  - 0.953\n",
    "#Dropconn 0.9 - 0.962\n",
    "#Dropconn 0.7 - 0.962\n",
    "#Dropconn 0.95 - 0.961"
   ]
  },
  {
   "cell_type": "code",
   "execution_count": 59,
   "metadata": {
    "colab": {
     "base_uri": "https://localhost:8080/",
     "height": 593
    },
    "colab_type": "code",
    "id": "ctbyMgvYrb5O",
    "outputId": "984f4417-45c0-4220-c30f-267fa3993e4b"
   },
   "outputs": [
    {
     "name": "stdout",
     "output_type": "stream",
     "text": [
      "\r",
      "Epoch 9... (Train/Test) NLL: 0.126/0.152\tAccuracy: 0.961/0.956\n"
     ]
    },
    {
     "data": {
      "image/png": "[encoded data removed]",
      "text/plain": [
       "<Figure size 864x360 with 2 Axes>"
      ]
     },
     "metadata": {
      "needs_background": "light"
     },
     "output_type": "display_data"
    }
   ],
   "source": [
    "# from train_utils1 import train\n",
    "# 784 -> 200 -> 200 -> 10 с ReLU и Dropout между всеми слоями \n",
    "net = nn.Sequential(nn.Linear(784, 200),\n",
    "                        nn.Dropout(0.5),\n",
    "                        nn.ReLU(),\n",
    "                        nn.Linear(200, 200),\n",
    "                        nn.Dropout(0.5),\n",
    "                        nn.ReLU(),\n",
    "                        nn.Linear(200, 10),\n",
    "                        nn.LogSoftmax())\n",
    "train(net, 10, 0.001)"
   ]
  },
  {
   "cell_type": "code",
   "execution_count": 60,
   "metadata": {
    "colab": {
     "base_uri": "https://localhost:8080/",
     "height": 604
    },
    "colab_type": "code",
    "id": "8J8CrrxytXDA",
    "outputId": "0a2f53bd-6edf-4e3d-9b0e-c5d36ed868ea"
   },
   "outputs": [
    {
     "name": "stdout",
     "output_type": "stream",
     "text": [
      "\r",
      "Epoch 9... (Train/Test) NLL: 0.111/0.118\tAccuracy: 0.966/0.963\n"
     ]
    },
    {
     "data": {
      "image/png": "[encoded data removed]",
      "text/plain": [
       "<Figure size 864x360 with 2 Axes>"
      ]
     },
     "metadata": {
      "needs_background": "light"
     },
     "output_type": "display_data"
    }
   ],
   "source": [
    "# from train_utils import train\n",
    "# 784 -> 200 -> 200 -> 10 с ReLU DropConnect вместо всех линейных слоев \n",
    "net = nn.Sequential(DropConnect(784, 200, p=0.5),\n",
    "                        nn.ReLU(),\n",
    "                        DropConnect(200, 200, p=0.5),\n",
    "                        nn.ReLU(),\n",
    "                        DropConnect(200, 10),\n",
    "                        nn.LogSoftmax())\n",
    "train(net,  10, 0.001)"
   ]
  },
  {
   "cell_type": "markdown",
   "metadata": {
    "colab_type": "text",
    "id": "9ZCZmrevghjR"
   },
   "source": [
    "<i> 2.3 Сделайте выводы по третьей части. Отобразите кривые обучения на одном графике </i>"
   ]
  },
  {
   "cell_type": "markdown",
   "metadata": {},
   "source": [
    "Качество с DropConnect лучше, чем с Dropout"
   ]
  },
  {
   "cell_type": "markdown",
   "metadata": {
    "colab_type": "raw",
    "id": "dRsq6TSPghjW"
   },
   "source": []
  },
  {
   "cell_type": "markdown",
   "metadata": {
    "colab_type": "text",
    "id": "x1kHYGOAghjY"
   },
   "source": [
    "В test-time стохастичность Dropout убирают и заменяют все веса на их ожидаемое значение: $\\mathbb{E}w = pw + (1-p)0 = pw$."
   ]
  },
  {
   "cell_type": "markdown",
   "metadata": {
    "colab_type": "text",
    "id": "M2cLvejCghja"
   },
   "source": [
    "### Часть 3: Batch Normalization"
   ]
  },
  {
   "cell_type": "markdown",
   "metadata": {
    "colab_type": "text",
    "id": "WqIT2KGFghjb"
   },
   "source": [
    "Наконец, давайте рассмотрим Batch Normalization. Этот слой вычитает среднее и делит на стандартное отклонение. Среднее и дисперсия вычисляются по батчу независимо для каждого нейрона. У этого слоя есть две важные проблемы: его нельзя использовать при обучении с размером батча 1 и он делает элементы батча зависимыми. Давайте реализуем аналог батч нормализации: <a href=https://arxiv.org/pdf/1607.06450.pdf>Layer normalization</a>. В layer normalization среднее и дисперсия вычисляются по активациям нейронов, независимо для каждого объекта."
   ]
  },
  {
   "cell_type": "markdown",
   "metadata": {
    "colab_type": "text",
    "id": "qT0afED5ghjd"
   },
   "source": [
    "<i> 3.1 Реализуйте Layer Normalization </i>"
   ]
  },
  {
   "cell_type": "code",
   "execution_count": 40,
   "metadata": {
    "colab": {},
    "colab_type": "code",
    "id": "_lzUepLJghje"
   },
   "outputs": [],
   "source": [
    "# полезные функции: .std(dim), .mean(dim)\n",
    "\n",
    "class LayerNormalization(nn.Module):\n",
    "    def __init__(self, input_dim, eps = 1e-6):\n",
    "        super().__init__()\n",
    "        self.gamma = nn.Parameter(torch.ones(input_dim))\n",
    "        self.beta = nn.Parameter(torch.zeros(input_dim))\n",
    "        self.eps = eps\n",
    "    def forward(self, x):\n",
    "        output = self.gamma*(x - x.mean(-1,keepdim = True)) / (x.std(-1,keepdim = True) + self.eps) + self.beta\n",
    "        return output"
   ]
  },
  {
   "cell_type": "markdown",
   "metadata": {
    "colab_type": "text",
    "id": "bH1Eh6yughjj"
   },
   "source": [
    "<i> \n",
    "3.2 Сравните графики обучения нейроных сетей:\n",
    "1. 784 -> 200 -> 200 -> 10 с ReLU и Batch normalization между всеми слоями \n",
    "2. 784 -> 200 -> 200 -> 10 с ReLU и Layer normalization между всеми слоями \n",
    "</i>"
   ]
  },
  {
   "cell_type": "markdown",
   "metadata": {},
   "source": [
    "### 1"
   ]
  },
  {
   "cell_type": "code",
   "execution_count": 42,
   "metadata": {},
   "outputs": [
    {
     "name": "stdout",
     "output_type": "stream",
     "text": [
      "\r",
      "Epoch 9... (Train/Test) NLL: 0.015/0.089\tAccuracy: 0.995/0.975\n"
     ]
    },
    {
     "data": {
      "image/png": "[encoded data removed]",
      "text/plain": [
       "<Figure size 864x360 with 2 Axes>"
      ]
     },
     "metadata": {
      "needs_background": "light"
     },
     "output_type": "display_data"
    }
   ],
   "source": [
    "net = nn.Sequential(nn.Linear(784, 200),\n",
    "                        nn.BatchNorm1d(200),\n",
    "                        nn.ReLU(),\n",
    "                        nn.Linear(200, 200),\n",
    "                        nn.BatchNorm1d(200),\n",
    "                        nn.ReLU(),\n",
    "                        nn.Linear(200, 10),\n",
    "                        nn.LogSoftmax())\n",
    "\n",
    "train(net, 10, 0.001)"
   ]
  },
  {
   "cell_type": "markdown",
   "metadata": {},
   "source": [
    "### 2"
   ]
  },
  {
   "cell_type": "code",
   "execution_count": 43,
   "metadata": {
    "colab": {},
    "colab_type": "code",
    "id": "QXh0sFFHghjk"
   },
   "outputs": [
    {
     "name": "stdout",
     "output_type": "stream",
     "text": [
      "\r",
      "Epoch 9... (Train/Test) NLL: 0.017/0.081\tAccuracy: 0.994/0.978\n"
     ]
    },
    {
     "data": {
      "image/png": "[encoded data removed]",
      "text/plain": [
       "<Figure size 864x360 with 2 Axes>"
      ]
     },
     "metadata": {
      "needs_background": "light"
     },
     "output_type": "display_data"
    }
   ],
   "source": [
    "net = nn.Sequential(nn.Linear(784, 200),\n",
    "                        LayerNormalization(200),\n",
    "                        nn.ReLU(),\n",
    "                        nn.Linear(200, 200),\n",
    "                        LayerNormalization(200),\n",
    "                        nn.ReLU(),\n",
    "                        nn.Linear(200, 10),\n",
    "                        nn.LogSoftmax())\n",
    "\n",
    "train(net, 10, 0.001)"
   ]
  },
  {
   "cell_type": "markdown",
   "metadata": {
    "colab_type": "text",
    "id": "5dOK_NoLghjq"
   },
   "source": [
    "<i> 3.3 Сделайте выводы по третьей части </i>"
   ]
  },
  {
   "cell_type": "markdown",
   "metadata": {},
   "source": [
    "Layer normalization дает чуть лучший результат."
   ]
  },
  {
   "cell_type": "markdown",
   "metadata": {
    "colab_type": "text",
    "id": "EPXnrXhdghjs"
   },
   "source": [
    "#### Feedback (опционально)"
   ]
  },
  {
   "cell_type": "markdown",
   "metadata": {
    "colab_type": "text",
    "id": "i4xjLTHVghjt"
   },
   "source": [
    "Здесь вы можете оставить список опечаток из лекции или семинара:"
   ]
  },
  {
   "cell_type": "markdown",
   "metadata": {
    "colab_type": "raw",
    "id": "dT2jyZk-ghjv"
   },
   "source": []
  },
  {
   "cell_type": "markdown",
   "metadata": {
    "colab_type": "text",
    "id": "frAfROJGghjw"
   },
   "source": [
    "Здесь вы можете оставить комментарии по лекции или семинару:"
   ]
  },
  {
   "cell_type": "markdown",
   "metadata": {
    "colab_type": "raw",
    "id": "Cl9VUw-rghjx"
   },
   "source": []
  }
 ],
 "metadata": {
  "accelerator": "GPU",
  "colab": {
   "collapsed_sections": [],
   "name": "Practice task 5, Speedup.ipynb",
   "provenance": []
  },
  "kernelspec": {
   "display_name": "Python 3",
   "language": "python",
   "name": "python3"
  },
  "language_info": {
   "codemirror_mode": {
    "name": "ipython",
    "version": 3
   },
   "file_extension": ".py",
   "mimetype": "text/x-python",
   "name": "python",
   "nbconvert_exporter": "python",
   "pygments_lexer": "ipython3",
   "version": "3.7.6"
  },
  "latex_envs": {
   "bibliofile": "biblio.bib",
   "cite_by": "apalike",
   "current_citInitial": 1,
   "eqLabelWithNumbers": true,
   "eqNumInitial": 0
  },
  "widgets": {
   "application/vnd.jupyter.widget-state+json": {
    "14ba44cca9b94ddfa6ee75967e89b8f7": {
     "model_module": "@jupyter-widgets/controls",
     "model_name": "DescriptionStyleModel",
     "state": {
      "_model_module": "@jupyter-widgets/controls",
      "_model_module_version": "1.5.0",
      "_model_name": "DescriptionStyleModel",
      "_view_count": null,
      "_view_module": "@jupyter-widgets/base",
      "_view_module_version": "1.2.0",
      "_view_name": "StyleView",
      "description_width": ""
     }
    },
    "1bd80b5beea644aa8bfdaedfeef675a2": {
     "model_module": "@jupyter-widgets/base",
     "model_name": "LayoutModel",
     "state": {
      "_model_module": "@jupyter-widgets/base",
      "_model_module_version": "1.2.0",
      "_model_name": "LayoutModel",
      "_view_count": null,
      "_view_module": "@jupyter-widgets/base",
      "_view_module_version": "1.2.0",
      "_view_name": "LayoutView",
      "align_content": null,
      "align_items": null,
      "align_self": null,
      "border": null,
      "bottom": null,
      "display": null,
      "flex": null,
      "flex_flow": null,
      "grid_area": null,
      "grid_auto_columns": null,
      "grid_auto_flow": null,
      "grid_auto_rows": null,
      "grid_column": null,
      "grid_gap": null,
      "grid_row": null,
      "grid_template_areas": null,
      "grid_template_columns": null,
      "grid_template_rows": null,
      "height": null,
      "justify_content": null,
      "justify_items": null,
      "left": null,
      "margin": null,
      "max_height": null,
      "max_width": null,
      "min_height": null,
      "min_width": null,
      "object_fit": null,
      "object_position": null,
      "order": null,
      "overflow": null,
      "overflow_x": null,
      "overflow_y": null,
      "padding": null,
      "right": null,
      "top": null,
      "visibility": null,
      "width": null
     }
    },
    "1c34de0df84d4b36bff7d40acd16d249": {
     "model_module": "@jupyter-widgets/base",
     "model_name": "LayoutModel",
     "state": {
      "_model_module": "@jupyter-widgets/base",
      "_model_module_version": "1.2.0",
      "_model_name": "LayoutModel",
      "_view_count": null,
      "_view_module": "@jupyter-widgets/base",
      "_view_module_version": "1.2.0",
      "_view_name": "LayoutView",
      "align_content": null,
      "align_items": null,
      "align_self": null,
      "border": null,
      "bottom": null,
      "display": null,
      "flex": null,
      "flex_flow": null,
      "grid_area": null,
      "grid_auto_columns": null,
      "grid_auto_flow": null,
      "grid_auto_rows": null,
      "grid_column": null,
      "grid_gap": null,
      "grid_row": null,
      "grid_template_areas": null,
      "grid_template_columns": null,
      "grid_template_rows": null,
      "height": null,
      "justify_content": null,
      "justify_items": null,
      "left": null,
      "margin": null,
      "max_height": null,
      "max_width": null,
      "min_height": null,
      "min_width": null,
      "object_fit": null,
      "object_position": null,
      "order": null,
      "overflow": null,
      "overflow_x": null,
      "overflow_y": null,
      "padding": null,
      "right": null,
      "top": null,
      "visibility": null,
      "width": null
     }
    },
    "2ed2d2788c784b25a098075b83820a24": {
     "model_module": "@jupyter-widgets/controls",
     "model_name": "DescriptionStyleModel",
     "state": {
      "_model_module": "@jupyter-widgets/controls",
      "_model_module_version": "1.5.0",
      "_model_name": "DescriptionStyleModel",
      "_view_count": null,
      "_view_module": "@jupyter-widgets/base",
      "_view_module_version": "1.2.0",
      "_view_name": "StyleView",
      "description_width": ""
     }
    },
    "30d9323c05ec46cab075863442f4cfdc": {
     "model_module": "@jupyter-widgets/base",
     "model_name": "LayoutModel",
     "state": {
      "_model_module": "@jupyter-widgets/base",
      "_model_module_version": "1.2.0",
      "_model_name": "LayoutModel",
      "_view_count": null,
      "_view_module": "@jupyter-widgets/base",
      "_view_module_version": "1.2.0",
      "_view_name": "LayoutView",
      "align_content": null,
      "align_items": null,
      "align_self": null,
      "border": null,
      "bottom": null,
      "display": null,
      "flex": null,
      "flex_flow": null,
      "grid_area": null,
      "grid_auto_columns": null,
      "grid_auto_flow": null,
      "grid_auto_rows": null,
      "grid_column": null,
      "grid_gap": null,
      "grid_row": null,
      "grid_template_areas": null,
      "grid_template_columns": null,
      "grid_template_rows": null,
      "height": null,
      "justify_content": null,
      "justify_items": null,
      "left": null,
      "margin": null,
      "max_height": null,
      "max_width": null,
      "min_height": null,
      "min_width": null,
      "object_fit": null,
      "object_position": null,
      "order": null,
      "overflow": null,
      "overflow_x": null,
      "overflow_y": null,
      "padding": null,
      "right": null,
      "top": null,
      "visibility": null,
      "width": null
     }
    },
    "38ab7b11a416409c8d9b6940819542d2": {
     "model_module": "@jupyter-widgets/base",
     "model_name": "LayoutModel",
     "state": {
      "_model_module": "@jupyter-widgets/base",
      "_model_module_version": "1.2.0",
      "_model_name": "LayoutModel",
      "_view_count": null,
      "_view_module": "@jupyter-widgets/base",
      "_view_module_version": "1.2.0",
      "_view_name": "LayoutView",
      "align_content": null,
      "align_items": null,
      "align_self": null,
      "border": null,
      "bottom": null,
      "display": null,
      "flex": null,
      "flex_flow": null,
      "grid_area": null,
      "grid_auto_columns": null,
      "grid_auto_flow": null,
      "grid_auto_rows": null,
      "grid_column": null,
      "grid_gap": null,
      "grid_row": null,
      "grid_template_areas": null,
      "grid_template_columns": null,
      "grid_template_rows": null,
      "height": null,
      "justify_content": null,
      "justify_items": null,
      "left": null,
      "margin": null,
      "max_height": null,
      "max_width": null,
      "min_height": null,
      "min_width": null,
      "object_fit": null,
      "object_position": null,
      "order": null,
      "overflow": null,
      "overflow_x": null,
      "overflow_y": null,
      "padding": null,
      "right": null,
      "top": null,
      "visibility": null,
      "width": null
     }
    },
    "43d28f6038ef4a1db20ac897b70a8dc2": {
     "model_module": "@jupyter-widgets/base",
     "model_name": "LayoutModel",
     "state": {
      "_model_module": "@jupyter-widgets/base",
      "_model_module_version": "1.2.0",
      "_model_name": "LayoutModel",
      "_view_count": null,
      "_view_module": "@jupyter-widgets/base",
      "_view_module_version": "1.2.0",
      "_view_name": "LayoutView",
      "align_content": null,
      "align_items": null,
      "align_self": null,
      "border": null,
      "bottom": null,
      "display": null,
      "flex": null,
      "flex_flow": null,
      "grid_area": null,
      "grid_auto_columns": null,
      "grid_auto_flow": null,
      "grid_auto_rows": null,
      "grid_column": null,
      "grid_gap": null,
      "grid_row": null,
      "grid_template_areas": null,
      "grid_template_columns": null,
      "grid_template_rows": null,
      "height": null,
      "justify_content": null,
      "justify_items": null,
      "left": null,
      "margin": null,
      "max_height": null,
      "max_width": null,
      "min_height": null,
      "min_width": null,
      "object_fit": null,
      "object_position": null,
      "order": null,
      "overflow": null,
      "overflow_x": null,
      "overflow_y": null,
      "padding": null,
      "right": null,
      "top": null,
      "visibility": null,
      "width": null
     }
    },
    "46444ca8452845c9a6b182b78485a65b": {
     "model_module": "@jupyter-widgets/base",
     "model_name": "LayoutModel",
     "state": {
      "_model_module": "@jupyter-widgets/base",
      "_model_module_version": "1.2.0",
      "_model_name": "LayoutModel",
      "_view_count": null,
      "_view_module": "@jupyter-widgets/base",
      "_view_module_version": "1.2.0",
      "_view_name": "LayoutView",
      "align_content": null,
      "align_items": null,
      "align_self": null,
      "border": null,
      "bottom": null,
      "display": null,
      "flex": null,
      "flex_flow": null,
      "grid_area": null,
      "grid_auto_columns": null,
      "grid_auto_flow": null,
      "grid_auto_rows": null,
      "grid_column": null,
      "grid_gap": null,
      "grid_row": null,
      "grid_template_areas": null,
      "grid_template_columns": null,
      "grid_template_rows": null,
      "height": null,
      "justify_content": null,
      "justify_items": null,
      "left": null,
      "margin": null,
      "max_height": null,
      "max_width": null,
      "min_height": null,
      "min_width": null,
      "object_fit": null,
      "object_position": null,
      "order": null,
      "overflow": null,
      "overflow_x": null,
      "overflow_y": null,
      "padding": null,
      "right": null,
      "top": null,
      "visibility": null,
      "width": null
     }
    },
    "46dd518a5b0848d0ade0986e0f7d9371": {
     "model_module": "@jupyter-widgets/controls",
     "model_name": "ProgressStyleModel",
     "state": {
      "_model_module": "@jupyter-widgets/controls",
      "_model_module_version": "1.5.0",
      "_model_name": "ProgressStyleModel",
      "_view_count": null,
      "_view_module": "@jupyter-widgets/base",
      "_view_module_version": "1.2.0",
      "_view_name": "StyleView",
      "bar_color": null,
      "description_width": ""
     }
    },
    "474b330d13fe41b8b28d15f4c490c751": {
     "model_module": "@jupyter-widgets/controls",
     "model_name": "HBoxModel",
     "state": {
      "_dom_classes": [],
      "_model_module": "@jupyter-widgets/controls",
      "_model_module_version": "1.5.0",
      "_model_name": "HBoxModel",
      "_view_count": null,
      "_view_module": "@jupyter-widgets/controls",
      "_view_module_version": "1.5.0",
      "_view_name": "HBoxView",
      "box_style": "",
      "children": [
       "IPY_MODEL_ff645cbb9beb41b3947bc33ddff45c14",
       "IPY_MODEL_7fcf48577bca407aace2d72407103ba6"
      ],
      "layout": "IPY_MODEL_43d28f6038ef4a1db20ac897b70a8dc2"
     }
    },
    "4e6b4f2ecf2d4e9293130c58e6b1ae21": {
     "model_module": "@jupyter-widgets/controls",
     "model_name": "HTMLModel",
     "state": {
      "_dom_classes": [],
      "_model_module": "@jupyter-widgets/controls",
      "_model_module_version": "1.5.0",
      "_model_name": "HTMLModel",
      "_view_count": null,
      "_view_module": "@jupyter-widgets/controls",
      "_view_module_version": "1.5.0",
      "_view_name": "HTMLView",
      "description": "",
      "description_tooltip": null,
      "layout": "IPY_MODEL_d0fab42cb0674dc7bf16e5ee04ad6100",
      "placeholder": "​",
      "style": "IPY_MODEL_9be7ceb2ce894758ad7f7d852307935e",
      "value": "32768it [00:00, 44436.65it/s]"
     }
    },
    "5465961835db4b7cb32beb537e560fda": {
     "model_module": "@jupyter-widgets/controls",
     "model_name": "ProgressStyleModel",
     "state": {
      "_model_module": "@jupyter-widgets/controls",
      "_model_module_version": "1.5.0",
      "_model_name": "ProgressStyleModel",
      "_view_count": null,
      "_view_module": "@jupyter-widgets/base",
      "_view_module_version": "1.2.0",
      "_view_name": "StyleView",
      "bar_color": null,
      "description_width": ""
     }
    },
    "5db1521a6d044dec88cc09f2acc576ac": {
     "model_module": "@jupyter-widgets/controls",
     "model_name": "HBoxModel",
     "state": {
      "_dom_classes": [],
      "_model_module": "@jupyter-widgets/controls",
      "_model_module_version": "1.5.0",
      "_model_name": "HBoxModel",
      "_view_count": null,
      "_view_module": "@jupyter-widgets/controls",
      "_view_module_version": "1.5.0",
      "_view_name": "HBoxView",
      "box_style": "",
      "children": [
       "IPY_MODEL_ba7a5dd3671549b18b22baceade60a23",
       "IPY_MODEL_4e6b4f2ecf2d4e9293130c58e6b1ae21"
      ],
      "layout": "IPY_MODEL_1c34de0df84d4b36bff7d40acd16d249"
     }
    },
    "626451f2553344e6aff7ff70f2282dae": {
     "model_module": "@jupyter-widgets/base",
     "model_name": "LayoutModel",
     "state": {
      "_model_module": "@jupyter-widgets/base",
      "_model_module_version": "1.2.0",
      "_model_name": "LayoutModel",
      "_view_count": null,
      "_view_module": "@jupyter-widgets/base",
      "_view_module_version": "1.2.0",
      "_view_name": "LayoutView",
      "align_content": null,
      "align_items": null,
      "align_self": null,
      "border": null,
      "bottom": null,
      "display": null,
      "flex": null,
      "flex_flow": null,
      "grid_area": null,
      "grid_auto_columns": null,
      "grid_auto_flow": null,
      "grid_auto_rows": null,
      "grid_column": null,
      "grid_gap": null,
      "grid_row": null,
      "grid_template_areas": null,
      "grid_template_columns": null,
      "grid_template_rows": null,
      "height": null,
      "justify_content": null,
      "justify_items": null,
      "left": null,
      "margin": null,
      "max_height": null,
      "max_width": null,
      "min_height": null,
      "min_width": null,
      "object_fit": null,
      "object_position": null,
      "order": null,
      "overflow": null,
      "overflow_x": null,
      "overflow_y": null,
      "padding": null,
      "right": null,
      "top": null,
      "visibility": null,
      "width": null
     }
    },
    "660c5a787ba145429688d551f22a2d19": {
     "model_module": "@jupyter-widgets/controls",
     "model_name": "ProgressStyleModel",
     "state": {
      "_model_module": "@jupyter-widgets/controls",
      "_model_module_version": "1.5.0",
      "_model_name": "ProgressStyleModel",
      "_view_count": null,
      "_view_module": "@jupyter-widgets/base",
      "_view_module_version": "1.2.0",
      "_view_name": "StyleView",
      "bar_color": null,
      "description_width": ""
     }
    },
    "66bcb99aad6d45d482f764831d1d6c51": {
     "model_module": "@jupyter-widgets/controls",
     "model_name": "HBoxModel",
     "state": {
      "_dom_classes": [],
      "_model_module": "@jupyter-widgets/controls",
      "_model_module_version": "1.5.0",
      "_model_name": "HBoxModel",
      "_view_count": null,
      "_view_module": "@jupyter-widgets/controls",
      "_view_module_version": "1.5.0",
      "_view_name": "HBoxView",
      "box_style": "",
      "children": [
       "IPY_MODEL_aef03a87337448d89666818d32a9955b",
       "IPY_MODEL_d8eba2822f85420ea99106d176031b32"
      ],
      "layout": "IPY_MODEL_ed16ac69365e40cdada4330d44fce630"
     }
    },
    "764e1a6275bf40029e97f159f004e108": {
     "model_module": "@jupyter-widgets/controls",
     "model_name": "HBoxModel",
     "state": {
      "_dom_classes": [],
      "_model_module": "@jupyter-widgets/controls",
      "_model_module_version": "1.5.0",
      "_model_name": "HBoxModel",
      "_view_count": null,
      "_view_module": "@jupyter-widgets/controls",
      "_view_module_version": "1.5.0",
      "_view_name": "HBoxView",
      "box_style": "",
      "children": [
       "IPY_MODEL_dcb70db768704721bc1a231dff22b90e",
       "IPY_MODEL_cbc3d49db9974707b1b4e35c42b5d0c0"
      ],
      "layout": "IPY_MODEL_38ab7b11a416409c8d9b6940819542d2"
     }
    },
    "7d7481362ccf4cd78e3de89e01a99971": {
     "model_module": "@jupyter-widgets/base",
     "model_name": "LayoutModel",
     "state": {
      "_model_module": "@jupyter-widgets/base",
      "_model_module_version": "1.2.0",
      "_model_name": "LayoutModel",
      "_view_count": null,
      "_view_module": "@jupyter-widgets/base",
      "_view_module_version": "1.2.0",
      "_view_name": "LayoutView",
      "align_content": null,
      "align_items": null,
      "align_self": null,
      "border": null,
      "bottom": null,
      "display": null,
      "flex": null,
      "flex_flow": null,
      "grid_area": null,
      "grid_auto_columns": null,
      "grid_auto_flow": null,
      "grid_auto_rows": null,
      "grid_column": null,
      "grid_gap": null,
      "grid_row": null,
      "grid_template_areas": null,
      "grid_template_columns": null,
      "grid_template_rows": null,
      "height": null,
      "justify_content": null,
      "justify_items": null,
      "left": null,
      "margin": null,
      "max_height": null,
      "max_width": null,
      "min_height": null,
      "min_width": null,
      "object_fit": null,
      "object_position": null,
      "order": null,
      "overflow": null,
      "overflow_x": null,
      "overflow_y": null,
      "padding": null,
      "right": null,
      "top": null,
      "visibility": null,
      "width": null
     }
    },
    "7fcf48577bca407aace2d72407103ba6": {
     "model_module": "@jupyter-widgets/controls",
     "model_name": "HTMLModel",
     "state": {
      "_dom_classes": [],
      "_model_module": "@jupyter-widgets/controls",
      "_model_module_version": "1.5.0",
      "_model_name": "HTMLModel",
      "_view_count": null,
      "_view_module": "@jupyter-widgets/controls",
      "_view_module_version": "1.5.0",
      "_view_name": "HTMLView",
      "description": "",
      "description_tooltip": null,
      "layout": "IPY_MODEL_ceae5d51cf964857b0ba1479d3cfe3e8",
      "placeholder": "​",
      "style": "IPY_MODEL_14ba44cca9b94ddfa6ee75967e89b8f7",
      "value": "9920512it [00:03, 3238713.71it/s]"
     }
    },
    "842a246954c9413f8e235ae9ea1fa0fc": {
     "model_module": "@jupyter-widgets/base",
     "model_name": "LayoutModel",
     "state": {
      "_model_module": "@jupyter-widgets/base",
      "_model_module_version": "1.2.0",
      "_model_name": "LayoutModel",
      "_view_count": null,
      "_view_module": "@jupyter-widgets/base",
      "_view_module_version": "1.2.0",
      "_view_name": "LayoutView",
      "align_content": null,
      "align_items": null,
      "align_self": null,
      "border": null,
      "bottom": null,
      "display": null,
      "flex": null,
      "flex_flow": null,
      "grid_area": null,
      "grid_auto_columns": null,
      "grid_auto_flow": null,
      "grid_auto_rows": null,
      "grid_column": null,
      "grid_gap": null,
      "grid_row": null,
      "grid_template_areas": null,
      "grid_template_columns": null,
      "grid_template_rows": null,
      "height": null,
      "justify_content": null,
      "justify_items": null,
      "left": null,
      "margin": null,
      "max_height": null,
      "max_width": null,
      "min_height": null,
      "min_width": null,
      "object_fit": null,
      "object_position": null,
      "order": null,
      "overflow": null,
      "overflow_x": null,
      "overflow_y": null,
      "padding": null,
      "right": null,
      "top": null,
      "visibility": null,
      "width": null
     }
    },
    "9be7ceb2ce894758ad7f7d852307935e": {
     "model_module": "@jupyter-widgets/controls",
     "model_name": "DescriptionStyleModel",
     "state": {
      "_model_module": "@jupyter-widgets/controls",
      "_model_module_version": "1.5.0",
      "_model_name": "DescriptionStyleModel",
      "_view_count": null,
      "_view_module": "@jupyter-widgets/base",
      "_view_module_version": "1.2.0",
      "_view_name": "StyleView",
      "description_width": ""
     }
    },
    "aef03a87337448d89666818d32a9955b": {
     "model_module": "@jupyter-widgets/controls",
     "model_name": "IntProgressModel",
     "state": {
      "_dom_classes": [],
      "_model_module": "@jupyter-widgets/controls",
      "_model_module_version": "1.5.0",
      "_model_name": "IntProgressModel",
      "_view_count": null,
      "_view_module": "@jupyter-widgets/controls",
      "_view_module_version": "1.5.0",
      "_view_name": "ProgressView",
      "bar_style": "success",
      "description": "",
      "description_tooltip": null,
      "layout": "IPY_MODEL_30d9323c05ec46cab075863442f4cfdc",
      "max": 1,
      "min": 0,
      "orientation": "horizontal",
      "style": "IPY_MODEL_5465961835db4b7cb32beb537e560fda",
      "value": 1
     }
    },
    "b047e25740e3475589ec275b738d9379": {
     "model_module": "@jupyter-widgets/controls",
     "model_name": "DescriptionStyleModel",
     "state": {
      "_model_module": "@jupyter-widgets/controls",
      "_model_module_version": "1.5.0",
      "_model_name": "DescriptionStyleModel",
      "_view_count": null,
      "_view_module": "@jupyter-widgets/base",
      "_view_module_version": "1.2.0",
      "_view_name": "StyleView",
      "description_width": ""
     }
    },
    "ba7a5dd3671549b18b22baceade60a23": {
     "model_module": "@jupyter-widgets/controls",
     "model_name": "IntProgressModel",
     "state": {
      "_dom_classes": [],
      "_model_module": "@jupyter-widgets/controls",
      "_model_module_version": "1.5.0",
      "_model_name": "IntProgressModel",
      "_view_count": null,
      "_view_module": "@jupyter-widgets/controls",
      "_view_module_version": "1.5.0",
      "_view_name": "ProgressView",
      "bar_style": "success",
      "description": "",
      "description_tooltip": null,
      "layout": "IPY_MODEL_7d7481362ccf4cd78e3de89e01a99971",
      "max": 1,
      "min": 0,
      "orientation": "horizontal",
      "style": "IPY_MODEL_46dd518a5b0848d0ade0986e0f7d9371",
      "value": 1
     }
    },
    "cbc3d49db9974707b1b4e35c42b5d0c0": {
     "model_module": "@jupyter-widgets/controls",
     "model_name": "HTMLModel",
     "state": {
      "_dom_classes": [],
      "_model_module": "@jupyter-widgets/controls",
      "_model_module_version": "1.5.0",
      "_model_name": "HTMLModel",
      "_view_count": null,
      "_view_module": "@jupyter-widgets/controls",
      "_view_module_version": "1.5.0",
      "_view_name": "HTMLView",
      "description": "",
      "description_tooltip": null,
      "layout": "IPY_MODEL_46444ca8452845c9a6b182b78485a65b",
      "placeholder": "​",
      "style": "IPY_MODEL_2ed2d2788c784b25a098075b83820a24",
      "value": "1654784it [00:02, 612053.45it/s]"
     }
    },
    "ceae5d51cf964857b0ba1479d3cfe3e8": {
     "model_module": "@jupyter-widgets/base",
     "model_name": "LayoutModel",
     "state": {
      "_model_module": "@jupyter-widgets/base",
      "_model_module_version": "1.2.0",
      "_model_name": "LayoutModel",
      "_view_count": null,
      "_view_module": "@jupyter-widgets/base",
      "_view_module_version": "1.2.0",
      "_view_name": "LayoutView",
      "align_content": null,
      "align_items": null,
      "align_self": null,
      "border": null,
      "bottom": null,
      "display": null,
      "flex": null,
      "flex_flow": null,
      "grid_area": null,
      "grid_auto_columns": null,
      "grid_auto_flow": null,
      "grid_auto_rows": null,
      "grid_column": null,
      "grid_gap": null,
      "grid_row": null,
      "grid_template_areas": null,
      "grid_template_columns": null,
      "grid_template_rows": null,
      "height": null,
      "justify_content": null,
      "justify_items": null,
      "left": null,
      "margin": null,
      "max_height": null,
      "max_width": null,
      "min_height": null,
      "min_width": null,
      "object_fit": null,
      "object_position": null,
      "order": null,
      "overflow": null,
      "overflow_x": null,
      "overflow_y": null,
      "padding": null,
      "right": null,
      "top": null,
      "visibility": null,
      "width": null
     }
    },
    "d0fab42cb0674dc7bf16e5ee04ad6100": {
     "model_module": "@jupyter-widgets/base",
     "model_name": "LayoutModel",
     "state": {
      "_model_module": "@jupyter-widgets/base",
      "_model_module_version": "1.2.0",
      "_model_name": "LayoutModel",
      "_view_count": null,
      "_view_module": "@jupyter-widgets/base",
      "_view_module_version": "1.2.0",
      "_view_name": "LayoutView",
      "align_content": null,
      "align_items": null,
      "align_self": null,
      "border": null,
      "bottom": null,
      "display": null,
      "flex": null,
      "flex_flow": null,
      "grid_area": null,
      "grid_auto_columns": null,
      "grid_auto_flow": null,
      "grid_auto_rows": null,
      "grid_column": null,
      "grid_gap": null,
      "grid_row": null,
      "grid_template_areas": null,
      "grid_template_columns": null,
      "grid_template_rows": null,
      "height": null,
      "justify_content": null,
      "justify_items": null,
      "left": null,
      "margin": null,
      "max_height": null,
      "max_width": null,
      "min_height": null,
      "min_width": null,
      "object_fit": null,
      "object_position": null,
      "order": null,
      "overflow": null,
      "overflow_x": null,
      "overflow_y": null,
      "padding": null,
      "right": null,
      "top": null,
      "visibility": null,
      "width": null
     }
    },
    "d8eba2822f85420ea99106d176031b32": {
     "model_module": "@jupyter-widgets/controls",
     "model_name": "HTMLModel",
     "state": {
      "_dom_classes": [],
      "_model_module": "@jupyter-widgets/controls",
      "_model_module_version": "1.5.0",
      "_model_name": "HTMLModel",
      "_view_count": null,
      "_view_module": "@jupyter-widgets/controls",
      "_view_module_version": "1.5.0",
      "_view_name": "HTMLView",
      "description": "",
      "description_tooltip": null,
      "layout": "IPY_MODEL_1bd80b5beea644aa8bfdaedfeef675a2",
      "placeholder": "​",
      "style": "IPY_MODEL_b047e25740e3475589ec275b738d9379",
      "value": "8192it [00:00, 15565.51it/s]"
     }
    },
    "dcb70db768704721bc1a231dff22b90e": {
     "model_module": "@jupyter-widgets/controls",
     "model_name": "IntProgressModel",
     "state": {
      "_dom_classes": [],
      "_model_module": "@jupyter-widgets/controls",
      "_model_module_version": "1.5.0",
      "_model_name": "IntProgressModel",
      "_view_count": null,
      "_view_module": "@jupyter-widgets/controls",
      "_view_module_version": "1.5.0",
      "_view_name": "ProgressView",
      "bar_style": "success",
      "description": "",
      "description_tooltip": null,
      "layout": "IPY_MODEL_842a246954c9413f8e235ae9ea1fa0fc",
      "max": 1,
      "min": 0,
      "orientation": "horizontal",
      "style": "IPY_MODEL_e768aeef231b4b64865a4d349accb679",
      "value": 1
     }
    },
    "e768aeef231b4b64865a4d349accb679": {
     "model_module": "@jupyter-widgets/controls",
     "model_name": "ProgressStyleModel",
     "state": {
      "_model_module": "@jupyter-widgets/controls",
      "_model_module_version": "1.5.0",
      "_model_name": "ProgressStyleModel",
      "_view_count": null,
      "_view_module": "@jupyter-widgets/base",
      "_view_module_version": "1.2.0",
      "_view_name": "StyleView",
      "bar_color": null,
      "description_width": ""
     }
    },
    "ed16ac69365e40cdada4330d44fce630": {
     "model_module": "@jupyter-widgets/base",
     "model_name": "LayoutModel",
     "state": {
      "_model_module": "@jupyter-widgets/base",
      "_model_module_version": "1.2.0",
      "_model_name": "LayoutModel",
      "_view_count": null,
      "_view_module": "@jupyter-widgets/base",
      "_view_module_version": "1.2.0",
      "_view_name": "LayoutView",
      "align_content": null,
      "align_items": null,
      "align_self": null,
      "border": null,
      "bottom": null,
      "display": null,
      "flex": null,
      "flex_flow": null,
      "grid_area": null,
      "grid_auto_columns": null,
      "grid_auto_flow": null,
      "grid_auto_rows": null,
      "grid_column": null,
      "grid_gap": null,
      "grid_row": null,
      "grid_template_areas": null,
      "grid_template_columns": null,
      "grid_template_rows": null,
      "height": null,
      "justify_content": null,
      "justify_items": null,
      "left": null,
      "margin": null,
      "max_height": null,
      "max_width": null,
      "min_height": null,
      "min_width": null,
      "object_fit": null,
      "object_position": null,
      "order": null,
      "overflow": null,
      "overflow_x": null,
      "overflow_y": null,
      "padding": null,
      "right": null,
      "top": null,
      "visibility": null,
      "width": null
     }
    },
    "ff645cbb9beb41b3947bc33ddff45c14": {
     "model_module": "@jupyter-widgets/controls",
     "model_name": "IntProgressModel",
     "state": {
      "_dom_classes": [],
      "_model_module": "@jupyter-widgets/controls",
      "_model_module_version": "1.5.0",
      "_model_name": "IntProgressModel",
      "_view_count": null,
      "_view_module": "@jupyter-widgets/controls",
      "_view_module_version": "1.5.0",
      "_view_name": "ProgressView",
      "bar_style": "success",
      "description": "",
      "description_tooltip": null,
      "layout": "IPY_MODEL_626451f2553344e6aff7ff70f2282dae",
      "max": 1,
      "min": 0,
      "orientation": "horizontal",
      "style": "IPY_MODEL_660c5a787ba145429688d551f22a2d19",
      "value": 1
     }
    }
   }
  }
 },
 "nbformat": 4,
 "nbformat_minor": 1
}
